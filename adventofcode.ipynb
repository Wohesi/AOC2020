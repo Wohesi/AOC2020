{
 "metadata": {
  "language_info": {
   "codemirror_mode": {
    "name": "ipython",
    "version": 3
   },
   "file_extension": ".py",
   "mimetype": "text/x-python",
   "name": "python",
   "nbconvert_exporter": "python",
   "pygments_lexer": "ipython3",
   "version": "3.7.4-final"
  },
  "orig_nbformat": 2,
  "kernelspec": {
   "name": "python37464bitbasecondacc202b9d4962406ca387a5bf09a1747a",
   "display_name": "Python 3.7.4 64-bit ('base': conda)"
  }
 },
 "nbformat": 4,
 "nbformat_minor": 2,
 "cells": [
  {
   "cell_type": "code",
   "execution_count": 22,
   "metadata": {},
   "outputs": [
    {
     "output_type": "execute_result",
     "data": {
      "text/plain": [
       "158916"
      ]
     },
     "metadata": {},
     "execution_count": 22
    }
   ],
   "source": [
    "# Day 1\n",
    "import pandas as pd\n",
    "import itertools\n",
    "\n",
    "data = pd.read_csv('input.txt', sep=\" \", header=None)\n",
    "\n",
    "# find two entries that sum to 2020, and then output the product of those two numbers\n",
    "\n",
    "# find all combination of 2\n",
    "combs = list(itertools.combinations(data[0], 2))\n",
    "\n",
    "# find sum 2020, and multiply them together. \n",
    "sum2020 = [(x[0] * x[1]) for x in combs if (x[0] + x[1]) == 2020]\n",
    "sum2020[0]"
   ]
  },
  {
   "cell_type": "code",
   "execution_count": 23,
   "metadata": {},
   "outputs": [
    {
     "output_type": "execute_result",
     "data": {
      "text/plain": [
       "165795564"
      ]
     },
     "metadata": {},
     "execution_count": 23
    }
   ],
   "source": [
    "# Day 2\n",
    "\n",
    "# same as day onem but with 3 numbers\n",
    "\n",
    "# all combinations of 3 numbers\n",
    "combs = list(itertools.combinations(data[0], 3))\n",
    "\n",
    "# find sum of 2020\n",
    "sum2020 = [(x[0]*x[1]*x[2]) for x in combs if sum(x) == 2020]\n",
    "sum2020[0]"
   ]
  },
  {
   "cell_type": "code",
   "execution_count": null,
   "metadata": {},
   "outputs": [],
   "source": []
  }
 ]
}