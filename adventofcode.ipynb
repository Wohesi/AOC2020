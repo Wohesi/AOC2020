{
 "metadata": {
  "language_info": {
   "codemirror_mode": {
    "name": "ipython",
    "version": 3
   },
   "file_extension": ".py",
   "mimetype": "text/x-python",
   "name": "python",
   "nbconvert_exporter": "python",
   "pygments_lexer": "ipython3",
   "version": "3.7.4-final"
  },
  "orig_nbformat": 2,
  "kernelspec": {
   "name": "python37464bitbasecondacc202b9d4962406ca387a5bf09a1747a",
   "display_name": "Python 3.7.4 64-bit ('base': conda)"
  }
 },
 "nbformat": 4,
 "nbformat_minor": 2,
 "cells": [
  {
   "source": [
    "# Day 1"
   ],
   "cell_type": "markdown",
   "metadata": {}
  },
  {
   "cell_type": "code",
   "execution_count": 154,
   "metadata": {},
   "outputs": [],
   "source": [
    "# part 1\n",
    "import pandas as pd\n",
    "import itertools\n",
    "\n",
    "data = pd.read_csv('input-day1.txt', sep=\" \", header=None)\n",
    "\n",
    "# find two entries that sum to 2020, and then output the product of those two numbers\n",
    "\n",
    "# find all combination of 2\n",
    "combs = list(itertools.combinations(data[0], 2))\n",
    "\n",
    "# find sum 2020, and multiply them together. \n",
    "sum2020 = [(x[0] * x[1]) for x in combs if (x[0] + x[1]) == 2020]\n",
    "\n",
    "# answer\n",
    "#sum2020[0]"
   ]
  },
  {
   "cell_type": "code",
   "execution_count": 155,
   "metadata": {},
   "outputs": [],
   "source": [
    "# part 2\n",
    "\n",
    "# same as day onem but with 3 numbers\n",
    "\n",
    "# all combinations of 3 numbers\n",
    "combs = list(itertools.combinations(data[0], 3))\n",
    "\n",
    "# find sum of 2020\n",
    "sum2020 = [(x[0]*x[1]*x[2]) for x in combs if sum(x) == 2020]\n",
    "\n",
    "# answer\n",
    "#sum2020[0]"
   ]
  },
  {
   "source": [
    "# Day 2"
   ],
   "cell_type": "markdown",
   "metadata": {}
  },
  {
   "cell_type": "code",
   "execution_count": 156,
   "metadata": {},
   "outputs": [],
   "source": [
    "import collections\n",
    "\n",
    "def pwcheck_1(letter, password, rang):\n",
    "\n",
    "    counter = collections.Counter(password)\n",
    "    rang = rang.split('-')\n",
    "\n",
    "    if letter in counter:\n",
    "\n",
    "        return int(rang[0]) <= counter[letter] <= int(rang[1])\n",
    "\n",
    "\n",
    "\n",
    "def pwcheck_2(letter, password, rang):\n",
    "\n",
    "    rang = rang.split('-')\n",
    "\n",
    "    pos1, pos2 = password[int(rang[0])-1], password[int(rang[1])-1]\n",
    "    \n",
    "    return (pos1 == letter) !=  (pos2 == letter)"
   ]
  },
  {
   "cell_type": "code",
   "execution_count": 157,
   "metadata": {},
   "outputs": [],
   "source": [
    "# Part 1\n",
    "data = pd.read_csv('input-day2.txt', header=None, sep=' ')\n",
    "\n",
    "data.columns = ['ROC', 'letter', 'password']\n",
    "\n",
    "# remove the ':'\n",
    "data.letter = data.letter.str.replace(':', '')\n",
    "\n",
    "# find the number of valid paswords. \n",
    "data['valid_check1'] = data.apply(lambda x: pwcheck_1(x.letter, x.password, x.ROC), axis=1)\n",
    "\n",
    "# answer\n",
    "#data.valid_check1.value_counts()"
   ]
  },
  {
   "cell_type": "code",
   "execution_count": 158,
   "metadata": {},
   "outputs": [],
   "source": [
    "# part 2\n",
    "\n",
    "data['valid_check2'] = data.apply(lambda x: pwcheck_2(x.letter, x.password, x.ROC), axis=1)\n",
    "\n",
    "#answer: \n",
    "#data.valid_check2.value_counts()"
   ]
  },
  {
   "source": [
    "# Day 3"
   ],
   "cell_type": "markdown",
   "metadata": {}
  },
  {
   "cell_type": "code",
   "execution_count": 159,
   "metadata": {
    "tags": []
   },
   "outputs": [],
   "source": [
    "# part 1\n",
    "grid = open('input-day3.txt', 'r').readlines()\n",
    "grid = [x.strip('\\n') for x in grid]\n",
    "\n",
    "\n",
    "def TC(r, d):\n",
    "    pos = 0\n",
    "    c= 0\n",
    "    for x in range(0, len(grid)):\n",
    "        if x % d == 0:\n",
    "            pos = int(((x*r)/ d)) % len(grid[0])\n",
    "            if grid[x][pos] == '#':\n",
    "                c +=1\n",
    "    \n",
    "    return c  "
   ]
  },
  {
   "cell_type": "code",
   "execution_count": 160,
   "metadata": {},
   "outputs": [],
   "source": [
    "# part 1 answer\n",
    "#TC(3,1)\n",
    "\n",
    "# part 2 answer\n",
    "#TC(1,1) * TC(3,1) * TC(5,1) * TC(7,1) * TC(1,2)\n",
    "    "
   ]
  }
 ]
}